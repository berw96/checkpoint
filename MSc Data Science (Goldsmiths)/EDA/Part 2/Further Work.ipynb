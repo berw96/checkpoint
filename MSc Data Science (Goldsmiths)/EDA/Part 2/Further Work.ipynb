{
 "cells": [
  {
   "attachments": {},
   "cell_type": "markdown",
   "metadata": {},
   "source": [
    "<h1>IS71068A Data Programming (2022)</h1>\n",
    "<h2>Coursework 2</h2>"
   ]
  },
  {
   "attachments": {},
   "cell_type": "markdown",
   "metadata": {},
   "source": [
    "<h3>Mr Elliot Walker</h3>\n",
    "<h3>PT MSc Data Science</h3>\n",
    "<h3>ID: 3368 6408</h3>"
   ]
  },
  {
   "attachments": {},
   "cell_type": "markdown",
   "metadata": {},
   "source": [
    "<h2>Overview</h2>\n",
    "<p>What is the project about?</p>"
   ]
  },
  {
   "attachments": {},
   "cell_type": "markdown",
   "metadata": {},
   "source": [
    "<h2>Problem Area</h2>\n",
    "<p>Which topic does this report pertain to?</p>"
   ]
  },
  {
   "attachments": {},
   "cell_type": "markdown",
   "metadata": {},
   "source": [
    "<h2>Methods</h2>\n",
    "<p>What methods are utilized in collection, preprocessing, and analysis of data. Also discuss modelling technique used for creating predictions.</p>"
   ]
  },
  {
   "attachments": {},
   "cell_type": "markdown",
   "metadata": {},
   "source": [
    "<h2>Definitions</h2>\n",
    "<p>How is anti-Russian sentiment defined?</p>"
   ]
  },
  {
   "attachments": {},
   "cell_type": "markdown",
   "metadata": {},
   "source": [
    "<h2>Collection of Data</h2>\n",
    "<p>Investigate occurances of anti-Russian sentiment in newspapers based on its definition.</p>"
   ]
  },
  {
   "attachments": {},
   "cell_type": "markdown",
   "metadata": {},
   "source": [
    "<h2>Preprocessing</h2>\n",
    "<p>Conduct encoding and tidying on accumulated data.</p>"
   ]
  },
  {
   "attachments": {},
   "cell_type": "markdown",
   "metadata": {},
   "source": [
    "<h2>Analysis</h2>\n",
    "<p>Conduct EDA on accumulated data.</p>"
   ]
  },
  {
   "attachments": {},
   "cell_type": "markdown",
   "metadata": {},
   "source": [
    "<h2>Modelling</h2>\n",
    "<p>Create a classifier which calculates the probability of a sentence exhbiting a certain discrete value of sentiment (e.g., pro, neutral, anti).</p>"
   ]
  },
  {
   "attachments": {},
   "cell_type": "markdown",
   "metadata": {},
   "source": [
    "<h2>Predictions</h2>\n",
    "<p>Use the model to generate predictions for sentiment across different newspapers, based on keywords in test paragraphs.</p>"
   ]
  },
  {
   "attachments": {},
   "cell_type": "markdown",
   "metadata": {},
   "source": [
    "<h2>Discussion</h2>"
   ]
  },
  {
   "attachments": {},
   "cell_type": "markdown",
   "metadata": {},
   "source": [
    "<h2>Summary</h2>"
   ]
  },
  {
   "attachments": {},
   "cell_type": "markdown",
   "metadata": {},
   "source": [
    "<h2>References</h2>"
   ]
  }
 ],
 "metadata": {
  "kernelspec": {
   "display_name": "Python 3",
   "language": "python",
   "name": "python3"
  },
  "language_info": {
   "name": "python",
   "version": "3.10.8 (tags/v3.10.8:aaaf517, Oct 11 2022, 16:50:30) [MSC v.1933 64 bit (AMD64)]"
  },
  "orig_nbformat": 4,
  "vscode": {
   "interpreter": {
    "hash": "8cfcd75b6dff33e854c646ad668d6d511505a2bbcf698cf4a178e8a0d3ffff79"
   }
  }
 },
 "nbformat": 4,
 "nbformat_minor": 2
}
