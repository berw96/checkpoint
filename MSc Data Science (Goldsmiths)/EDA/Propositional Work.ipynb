{
 "cells": [
  {
   "cell_type": "markdown",
   "id": "46a3c272",
   "metadata": {},
   "source": [
    "<h1>IS71068A Data Programming (2022)</h1>\n",
    "<h2>Coursework 1</h2>"
   ]
  },
  {
   "cell_type": "markdown",
   "id": "a183bfdd",
   "metadata": {},
   "source": [
    "<h3>Mr Elliot Walker</h3>\n",
    "<h3>PT MSc Data Science</h3>\n",
    "<h3>ID: 3368 6408</h3>"
   ]
  },
  {
   "cell_type": "markdown",
   "id": "6562dc55",
   "metadata": {},
   "source": [
    "<h2>Overview</h2>\n",
    "<h3>The Project</h3>\n",
    "<p align = \"justify\">My project is about the effects of the <b>Russo-Ukrainian War</b> on both Russia and <b>NATO</b>'s defense budgets, and gas and oil prices throughout the European Continent.</p>\n",
    "\n",
    "<h3>Russo-Ukrainian War</h3>\n",
    "<p align = \"justify\">On February 24th 2022, forces from the <b>Russian Federation</b> invaded <b>The Ukraine</b> from its Eastern borders. In the months following, four oblasts (regions) - <b>Donestk</b>, <b>Kherson</b>, <b>Luhansk</b> and <b>Zaporizhzhia</b> - were formally annexed and absorbed, along with <b>Crimea</b> (annexed 2014), into the Russian Federation.</p>\n",
    "\n",
    "<p align = \"justify\">Ongoing, the Russo-Ukrainian War is the greatest conflict on European soil since the Second World War (with combatants including the <b>United States</b>, the <b>British Empire</b> and the <b>Soviet Union</b> against the <b>Third/Greater German Reich</b>), with this status stirring deepened concerns from the Western forces of NATO and allies.</p>\n",
    "\n",
    "<h3>Russia-NATO tensions</h3>\n",
    "<p align = \"justify\">The North Atalantic Trade Organisation or NATO was founded in the light of WW2 in April of 1949 as an oppositional state between the Western nations - of democratic, capitalist orientation - and the then rival Eastern nations (including Russia) of authortarian, socialist/communist orientation. The Soviet Union had annexed all of Eastern Europe, including East Germany (the GDR)</p>\n",
    "\n",
    "<p align = \"justify\">Throughout the Cold War (1947-1991) and up until today, tensions have remained consistent between the two ideologies, and for nearly a decade since 2014 Crimean War these tensions have been particularly present between Russia and NATO (with the USA spearheading the organisation's stance in the world). The tensions are partly geopolitical, stemming from the presence of NATO in the EU and former USSR states (Ukraine, Belarus, Latvia, Estonia, etc), and Russia's assaults on Ukraine. It is these tensions which serve as ground to explore correlation between the two side's military budgets, and the energy prices in Europe which have risen significantly due to Russian sanctions.</p>"
   ]
  },
  {
   "cell_type": "markdown",
   "id": "2481af9a",
   "metadata": {},
   "source": [
    "<h2>Problem Area</h2>\n",
    "<h3>Economic Polemology</h3>\n",
    "<p align = \"justify\"><b>Polemology</b> is the study of warfare, and for my project the focus is on the economic factors arising from observations in the Russo-Ukrainian War, and how fluctuating tensions between Russia and NATO influence these observations.</p>\n",
    "\n",
    "<h3>Question</h3>\n",
    "<p align = \"justify\">What correlations exist (if any) between the following observations from <b>January 2021</b>?:</p>\n",
    "<ul>\n",
    "    <li>NATO defense expenditure</li>\n",
    "    <li>Russian defense expenditure</li>\n",
    "    <li>European gas and oil prices</li>\n",
    "    <li>Abundance of NATO forces in Europe</li>\n",
    "    <li>Abundance of Russian forces in Ukraine</li>\n",
    "</ul>\n",
    "\n",
    "<p align = \"justify\">Provided correlation exists between one or more pairings for these data sets, a regressional model could be developed to better generalize their relationship. Additionally, these findings would be basis for further research into the economic effects of the war on a wider scale (e.g., how does gas price effect home economics for families across Europe?).</p>"
   ]
  },
  {
   "cell_type": "markdown",
   "id": "1ddb4404",
   "metadata": {},
   "source": [
    "<h2>Data</h2>\n",
    "<p>Which datasets am I using in this research?</p>"
   ]
  },
  {
   "cell_type": "markdown",
   "id": "1c869f37",
   "metadata": {},
   "source": [
    "<h1>Methods</h1>\n",
    "<p align = \"justify\">Which analytical techniques are applied? Any mathematical equations the reader should know about?</p>\n",
    "\n",
    "<h3>Exploratory Data Analysis</h3>\n",
    "<p align = \"justify\"><b>Exploratory Data Analysis (EDA)</b> involves the high-level summary of data. This includes the following:</p>\n",
    "\n",
    "<ul>\n",
    "    <li>creating visualizations for the data sets</li>\n",
    "    <li>summarising key aspects (e.g., central tendencies, standard deviation)</li>\n",
    "    <li>drawing relationships between observations and response variables</li>\n",
    "    <li>establishing a basis for deeper analysis</li>\n",
    "</ul>\n",
    "\n",
    "<p align = \"justify\">Visualization, central tendency (e.g., arithmetic mean, median, mode), and standard deviation are crucial to EDA as they effectively and succinctly communicate data, in one image or value. Visualization enables us to observe trends and distributions in data sets. Central tendency provides insight to the value(s) which are representative of our data. Standard deviation signals to us how much stochastic observations deviate from an established central tendency (specifically the arithmetic mean).</p>\n",
    "\n",
    "<h3>Correlation</h3>\n",
    "<p align = \"justify\">The correlation between two stochastic variables measures how they affect each other. Correlation may be non-existent (0), positive (+ve), such that the two variables trend with a positive gradient, or negative (-ve), such that the two variables trend with a negative gradient. The correlation is seldom perfect (magnitude 1), and in instances where it is perfect, suspicion should be raised as to the viability of the data used.</p>"
   ]
  },
  {
   "cell_type": "markdown",
   "id": "7e4be3e0",
   "metadata": {},
   "source": [
    "<h2>Analysis</h2>\n",
    "<p>Exploratory data analysis of datasets.</p>"
   ]
  },
  {
   "cell_type": "code",
   "execution_count": 3,
   "id": "56ae51fc",
   "metadata": {},
   "outputs": [
    {
     "name": "stdout",
     "output_type": "stream",
     "text": [
      "Hello Jupyter\n"
     ]
    }
   ],
   "source": [
    "print(\"Hello Jupyter\")"
   ]
  },
  {
   "cell_type": "markdown",
   "id": "d951141c",
   "metadata": {},
   "source": [
    "<h2>Discussion</h2>\n",
    "<p>Discussion of post-analytical results.</p>"
   ]
  },
  {
   "cell_type": "markdown",
   "id": "4811b597",
   "metadata": {},
   "source": [
    "<h2>Hypothesis</h2>\n",
    "<p>Hypothesis resulting from analysis.</p>"
   ]
  },
  {
   "cell_type": "markdown",
   "id": "83acf03e",
   "metadata": {},
   "source": [
    "<h2>Summary</h2>\n",
    "<p>Summary.</p>"
   ]
  },
  {
   "cell_type": "markdown",
   "id": "ddd9e641",
   "metadata": {},
   "source": [
    "<h1>References</h1>\n",
    "<p align = \"justify\">Sources used for this project.</p>"
   ]
  }
 ],
 "metadata": {
  "kernelspec": {
   "display_name": "Python 3.10.8 64-bit",
   "language": "python",
   "name": "python3"
  },
  "language_info": {
   "codemirror_mode": {
    "name": "ipython",
    "version": 3
   },
   "file_extension": ".py",
   "mimetype": "text/x-python",
   "name": "python",
   "nbconvert_exporter": "python",
   "pygments_lexer": "ipython3",
   "version": "3.10.8"
  },
  "vscode": {
   "interpreter": {
    "hash": "8cfcd75b6dff33e854c646ad668d6d511505a2bbcf698cf4a178e8a0d3ffff79"
   }
  }
 },
 "nbformat": 4,
 "nbformat_minor": 5
}
