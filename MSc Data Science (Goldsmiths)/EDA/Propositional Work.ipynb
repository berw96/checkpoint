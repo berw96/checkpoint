{
 "cells": [
  {
   "cell_type": "markdown",
   "id": "46a3c272",
   "metadata": {},
   "source": [
    "<h1>IS71068A Data Programming (2022)</h1>\n",
    "<h2>Coursework 1</h2>"
   ]
  },
  {
   "cell_type": "markdown",
   "id": "a183bfdd",
   "metadata": {},
   "source": [
    "<h3>Mr Elliot Walker</h3>\n",
    "<h3>PT MSc Data Science</h3>\n",
    "<h3>ID: 3368 6408</h3>"
   ]
  },
  {
   "cell_type": "markdown",
   "id": "6562dc55",
   "metadata": {},
   "source": [
    "<h2>Overview</h2>\n",
    "<h3>The Project</h3>\n",
    "<p align = \"justify\">My project is about the effects of the <b>Russo-Ukrainian War</b> on both Russia and <b>NATO</b>'s defense budgets, and gas prices throughout the European Continent.</p>\n",
    "\n",
    "<h3>Russo-Ukrainian War</h3>\n",
    "<p align = \"justify\">On February 24th 2022, forces from the <b>Russian Federation</b> invaded <b>The Ukraine</b> from its Eastern borders. In the months following, four oblasts (regions) - <b>Donestk</b>, <b>Kherson</b>, <b>Luhansk</b> and <b>Zaporizhzhia</b> - were formally annexed and absorbed, along with <b>Crimea</b> (annexed 2014), into the Russian Federation. Although, this annexation of Ukrainian territory remains unrecognized by the international community, spare North Korea.</p>\n",
    "\n",
    "<p align = \"justify\">Below is a summary of key events which have occured since the begining of the war.\n",
    "\n",
    "<ul>\n",
    "    <li>Origins\n",
    "        <ul>\n",
    "            <li>20/02/2014 - Russia invades Crimea</li>\n",
    "            <li>18/03/2014 - Russia annexes Crimea</li>\n",
    "        </ul>\n",
    "    </li>\n",
    "</ul>\n",
    "<ul>\n",
    "    <li>Build-up\n",
    "        <ul>\n",
    "            <li>03/03/2021 to 26/10/2021 - Build-up of Russian forces along the Ukrainian border</li>\n",
    "            <li>21/02/2022 - Donetsk and Luhansk are formally recognized as independent states by Russia</li>\n",
    "        </ul>\n",
    "    </li>\n",
    "</ul>\n",
    "<ul>\n",
    "    <li>Invasion\n",
    "        <ul>\n",
    "            <li>24/02/2022 - A full-scale invasion is launched against Ukraine by Russia</li>\n",
    "            <li>30/09/2022 - Russia claims/annexes four regions of Eastern Ukraine</li>\n",
    "        </ul>\n",
    "    </li>\n",
    "</ul>\n",
    "<ul>\n",
    "    <li>Ongoing...\n",
    "        <ul>\n",
    "            <li>Present, 26/10/2022 - NATO and Russia conducting nuclear drills</li>\n",
    "        </ul>\n",
    "    </li>\n",
    "</ul>\n",
    "</p>\n",
    "\n",
    "<p align = \"justify\">Ongoing, the Russo-Ukrainian War is the greatest conflict on European soil since the Second World War (with combatants including the <b>United States</b>, the <b>British Empire</b> and the <b>Soviet Union</b> against the <b>Third/Greater German Reich</b>), with this status stirring deepened concerns from the Western forces of NATO and allies.</p>\n",
    "\n",
    "<h3>Nord Stream 1 & 2</h3>\n",
    "<p align = \"justify\">European dependence on Russian natural gas was facilitated by the pipelines <b>Nord Stream 1</b> and <b>Nord Stream 2</b>, which were shut down and subsequently severely comprimised by suspected saboteurs. As a consequence of gas from Russia being cut completely, gas prices in Europe have increased significantly, although they are experiencing a momentary decline.</p>\n",
    "\n",
    "<h3>Russia-NATO tensions</h3>\n",
    "<p align = \"justify\">The North Atalantic Trade Organisation or NATO was founded in the light of WW2 in April of 1949 as an oppositional state between the Western nations - of democratic, capitalist orientation - and the then rival Eastern nations (including Russia) of authortarian, socialist/communist orientation. The Soviet Union had annexed all of Eastern Europe, including East Germany (then the German Democratic Republic)</p>\n",
    "\n",
    "<p align = \"justify\">Throughout the Cold War (1947-1991) and up until today, tensions have remained consistent between the two ideologies, and for nearly a decade since 2014 Crimean War these tensions have been particularly present between Russia and NATO (with the USA spearheading the organisation's stance in the world). The tensions are partly geopolitical, stemming from the presence of NATO in the EU and former USSR states (Ukraine, Belarus, Latvia, Estonia, etc), and Russia's assaults on Ukraine. It is these tensions which serve as ground to explore correlation between the two side's military budgets, and the energy prices in Europe which have risen significantly due to Russian sanctions.</p>"
   ]
  },
  {
   "cell_type": "markdown",
   "id": "2481af9a",
   "metadata": {},
   "source": [
    "<h2>Problem Area</h2>\n",
    "<h3>Economic Polemology</h3>\n",
    "<p align = \"justify\"><b>Polemology</b> is the study of warfare, and this project focuses on the economic factors arising from observations in the Russo-Ukrainian War, and how fluctuating tensions between Russia and NATO influence these observations.</p>\n",
    "\n",
    "<h3>Question</h3>\n",
    "<p align = \"justify\">What correlations exist (if any) between the following observations from <b>January 2021</b>?:</p>\n",
    "<ul>\n",
    "    <li>NATO defense expenditure</li>\n",
    "    <li>Russian defense expenditure</li>\n",
    "    <li>European gas prices</li>\n",
    "</ul>\n",
    "\n",
    "<p align = \"justify\">Provided correlation exists between one or more pairings for these data sets, a regressional model could be developed to better generalize their relationship. Additionally, these findings would be basis for further research into the economic effects of the war on a wider scale (e.g., how does gas price effect home economics for families across Europe?).</p>\n",
    "\n",
    "<p align = \"justify\">The expectation is that there should exist <i>some form of correlation</i> between these three data sets. European gas prices are affected by the war in Ukraine, which is related to Russia's military presence (and thus expenditure), which in turn arises from its mutually negative status with NATO and its military spending.</p>"
   ]
  },
  {
   "cell_type": "markdown",
   "id": "1ddb4404",
   "metadata": {},
   "source": [
    "<h2>Data</h2>\n",
    "\n",
    "<h3>NATO and Russian Military Expenditures</h3>\n",
    "<p align = \"justify\">Data for NATO defense spending across all member nations is provided courtesy of NATO itself [1], whereas the data pertaining to Russia's defense spending is not entirely available. The Russian budget [2] is provided as an informed estimate courtesy of the <b>Stockholm International Peace Research Instutute (SIPRI)</b>, which abides by NATO's standards of which resources contribute to military spending:</p>\n",
    "\n",
    "<ul>\n",
    "    <li>Peacekeeping forces</li>\n",
    "    <li>Paramilitary</li>\n",
    "    <li>Military research</li>\n",
    "    <li>Development</li>\n",
    "    <li>Aid</li>\n",
    "    <li>Maintenance</li>\n",
    "    <li>Space operations</li>\n",
    "</ul>\n",
    "\n",
    "<p align = \"justify\">The Russian government has not released any data on its military spending since May 2022, and thus such figures are unavailable for analysis. It is expected, though, that due to the trend this budget has followed since the Crimean conflict, it may very well be equal to or greater than the most recent record released [4].</p>"
   ]
  },
  {
   "cell_type": "code",
   "execution_count": 78,
   "id": "259ff5ae",
   "metadata": {},
   "outputs": [
    {
     "name": "stdout",
     "output_type": "stream",
     "text": [
      "    Year   Cost\n",
      "0   1993   7.77\n",
      "1   1994  13.55\n",
      "2   1995  12.74\n",
      "3   1996  15.83\n",
      "4   1997  17.58\n",
      "5   1998   7.96\n",
      "6   1999   6.47\n",
      "7   2000   9.23\n",
      "8   2001  11.68\n",
      "9   2002  13.94\n",
      "10  2003  16.97\n",
      "11  2004  20.96\n",
      "12  2005  27.34\n",
      "13  2006  34.52\n",
      "14  2007  43.53\n",
      "15  2008  56.18\n",
      "16  2009  51.53\n",
      "17  2010  58.72\n",
      "18  2011  70.24\n",
      "19  2012  81.47\n",
      "20  2013  88.35\n",
      "21  2014  84.70\n",
      "22  2015  66.42\n",
      "23  2016  69.25\n",
      "24  2017  66.91\n",
      "25  2018  61.61\n",
      "26  2019  65.20\n",
      "27  2020  61.71\n",
      "28  2021  65.91\n"
     ]
    },
    {
     "data": {
      "image/png": "[encoded data removed]",
      "text/plain": [
       "<Figure size 432x288 with 1 Axes>"
      ]
     },
     "metadata": {
      "needs_background": "light"
     },
     "output_type": "display_data"
    },
    {
     "data": {
      "image/png": "[encoded data removed]",
      "text/plain": [
       "<Figure size 432x288 with 1 Axes>"
      ]
     },
     "metadata": {
      "needs_background": "light"
     },
     "output_type": "display_data"
    }
   ],
   "source": [
    "import pandas as pd\n",
    "\n",
    "# Military spending in Russia from 1993 to 2021 (in billion current U.S. dollars)\n",
    "with open(\"datasets/Russia_military_budget_by_billion_dollars.csv\", mode = \"r\") as f:\n",
    "    RUS_budget_df = pd.read_csv(f)\n",
    "    print(RUS_budget_df)\n",
    "    RUS_budget_df.plot.line(x = \"Year\", y = \"Cost\", title = \"Russian military expenditure (1993 - 2021)\").set_ylabel(\"USD (Bn)\")\n",
    "    RUS_budget_df.plot.scatter(x = \"Year\", y = \"Cost\", title = \"Russian military expenditure (1993 - 2021)\").set_ylabel(\"USD (Bn)\")"
   ]
  },
  {
   "cell_type": "markdown",
   "id": "56fc6018",
   "metadata": {},
   "source": [
    "<h3>European TTF Gas Prices</h3>\n",
    "<p align = \"justify\">Reference is paid to the European TTF (AKA, Dutch Title Transfer Facility), which acts as a benchmark proxy for historic and present natural gas prices across the European Union (EU). Prices are stated in Euros per Megawatt-hours (how much it costs to run a megawatt for a single hour).</p>\n",
    "\n",
    "<p align = \"justify\">The data set for these prices was acquired through [3], and comprises of monthly records from November 2017 up until October 2022.</p>"
   ]
  },
  {
   "cell_type": "code",
   "execution_count": 75,
   "id": "cf28703f",
   "metadata": {},
   "outputs": [
    {
     "name": "stdout",
     "output_type": "stream",
     "text": [
      "          Date     Cost     Open     High      Low    Vol. Change %\n",
      "0   01/11/2017   20.305   20.305   20.305   20.305           11.05%\n",
      "1   01/12/2017   19.620   19.620   19.620   19.620           -3.37%\n",
      "2   01/01/2018   17.880   17.880   17.880   17.880           -8.87%\n",
      "3   01/02/2018   17.350   17.350   17.350   17.350           -2.96%\n",
      "4   01/03/2018   18.225   18.225   18.225   18.225   0.18K    5.04%\n",
      "5   01/04/2018   20.560   19.520   19.835   19.520   0.07K   12.81%\n",
      "6   01/05/2018   22.580   21.135   22.260   20.840   0.09K    9.82%\n",
      "7   01/06/2018   21.875   21.630   21.630   21.630   0.04K   -3.12%\n",
      "8   01/07/2018   22.115   22.300   22.300   22.300   0.02K    1.10%\n",
      "9   01/08/2018   25.835   22.000   26.025   22.000   0.22K   16.82%\n",
      "10  01/09/2018   27.330   26.965   29.560   26.655   0.94K    5.79%\n",
      "11  01/10/2018   24.335   26.735   27.860   25.625   0.12K  -10.96%\n",
      "12  01/11/2018   24.690   23.975   26.725   23.625   0.59K    1.46%\n",
      "13  01/12/2018   21.980   24.395   24.790   22.180   0.76K  -10.98%\n",
      "14  01/01/2019   19.850   22.280   23.135   19.665   0.74K   -9.69%\n",
      "15  01/02/2019   17.815   19.075   19.185   17.000   0.91K  -10.25%\n",
      "16  01/03/2019   14.215   17.375   17.500   14.175   4.39K  -20.21%\n",
      "17  01/04/2019   14.390   13.700   16.950   13.700   0.38K    1.23%\n",
      "18  01/05/2019   11.205   14.100   14.350   12.415   0.12K  -22.13%\n",
      "19  01/06/2019   10.115   11.320   11.650    9.750   0.43K   -9.73%\n",
      "20  01/07/2019   11.000   10.570   13.725    9.725   7.29K    8.75%\n",
      "21  01/08/2019   12.795   11.675   12.655   10.150   5.74K   16.32%\n",
      "22  01/09/2019   16.390   11.950   16.690   11.675   2.93K   28.10%\n",
      "23  01/10/2019   16.135   16.250   16.725   13.625   6.31K   -1.56%\n",
      "24  01/11/2019   16.330   16.350   16.905   15.150   8.73K    1.21%\n",
      "25  01/12/2019   12.050   15.955   16.000   12.610   5.33K  -26.21%\n",
      "26  01/01/2020    9.755   12.435   12.750    9.930   6.67K  -19.05%\n",
      "27  01/02/2020    8.875    9.600    9.600    8.500   3.43K   -9.02%\n",
      "28  01/03/2020    6.900    9.000    9.635    7.100  12.72K  -22.25%\n",
      "29  01/04/2020    6.220    6.725    7.525    5.800   5.42K   -9.86%\n",
      "30  01/05/2020    4.385    6.200    6.200    3.500   6.95K  -29.50%\n",
      "31  01/06/2020    6.165    4.100    6.455    3.950   9.53K   40.59%\n",
      "32  01/07/2020    6.025    5.950    6.315    4.710   7.83K   -2.27%\n",
      "33  01/08/2020   11.240    6.330   11.175    6.330   4.95K   86.56%\n",
      "34  01/09/2020   13.285   11.200   13.310   10.370   3.90K   18.19%\n",
      "35  01/10/2020   14.060   13.350   15.650   12.815   7.63K    5.83%\n",
      "36  01/11/2020   15.140   13.515   15.200   12.600   7.16K    7.68%\n",
      "37  01/12/2020   19.125   15.475   19.275   14.000   4.83K   26.32%\n",
      "38  01/01/2021   19.820   19.450   26.085   17.375  10.62K    3.63%\n",
      "39  01/02/2021   15.695   19.050   20.375   15.550  13.96K  -20.81%\n",
      "40  01/03/2021   18.995   16.000   19.170   15.500  20.88K   21.03%\n",
      "41  01/04/2021   23.285   19.000   23.320   18.900  17.84K   22.58%\n",
      "42  01/05/2021   24.930   24.105   26.915   22.570  16.71K    7.06%\n",
      "43  01/06/2021   34.620   25.180   34.925   25.180  16.21K   38.87%\n",
      "44  01/07/2021   40.755   35.500   40.880   31.470  14.68K   17.72%\n",
      "45  01/08/2021   50.340   42.100   50.470   40.100  14.86K   23.52%\n",
      "46  01/09/2021   97.775   52.250   96.300   49.600  16.82K   94.23%\n",
      "47  01/10/2021   64.865   94.665  132.930   70.000   2.71K  -33.66%\n",
      "48  01/11/2021   92.515   63.590   99.850   62.840   1.08K   42.63%\n",
      "49  01/12/2021   70.345   92.600  176.655   67.365   6.85K  -23.96%\n",
      "50  01/01/2022   84.670   85.000   97.020   71.000   1.84K   20.36%\n",
      "51  01/02/2022   98.595   78.300  135.000   68.515   3.24K   16.45%\n",
      "52  01/03/2022  125.905  103.665  148.000   97.600   0.97K   27.70%\n",
      "53  01/04/2022   99.450  114.750  114.750   96.750   0.04K  -21.01%\n",
      "54  01/05/2022   94.005   96.315   96.475   84.840   0.12K   -5.48%\n",
      "55  01/06/2022  144.515   83.005   83.005   80.410   0.03K   53.73%\n",
      "56  01/07/2022  190.915  190.915  190.915  190.915           32.11%\n",
      "57  01/08/2022  239.905  239.905  239.905  239.905           25.66%\n",
      "58  01/09/2022  188.800  188.800  188.800  188.800   0.01K  -21.30%\n",
      "59  01/10/2022   99.170   99.170   99.170   99.170          -47.47%\n"
     ]
    },
    {
     "data": {
      "image/png": "[encoded data removed]",
      "text/plain": [
       "<Figure size 432x288 with 1 Axes>"
      ]
     },
     "metadata": {
      "needs_background": "light"
     },
     "output_type": "display_data"
    },
    {
     "data": {
      "image/png": "[encoded data removed]",
      "text/plain": [
       "<Figure size 432x288 with 1 Axes>"
      ]
     },
     "metadata": {
      "needs_background": "light"
     },
     "output_type": "display_data"
    }
   ],
   "source": [
    "import pandas as pd\n",
    "\n",
    "with open(\"datasets/Dutch_TTF_gas_prices.csv\", mode = \"r\") as f:\n",
    "    ttf_gas_df = pd.read_csv(f, keep_default_na = False)\n",
    "    print(ttf_gas_df)\n",
    "    ttf_gas_df.plot.line(x = \"Date\", y = \"Cost\", title = \"TTF gas prices since November 2017 in Euros per MWh\").set_ylabel(\"Euros/MWh\")\n",
    "    ttf_gas_df.plot.scatter(x = \"Date\", y = \"Cost\", title = \"TTF gas prices since November 2017 in Euros per MWh\").set_ylabel(\"Euros/MWh\")"
   ]
  },
  {
   "cell_type": "markdown",
   "id": "1c869f37",
   "metadata": {},
   "source": [
    "<h1>Methods</h1>\n",
    "\n",
    "<h3>Exploratory Data Analysis</h3>\n",
    "<p align = \"justify\"><b>Exploratory Data Analysis (EDA)</b> involves the high-level summary of data. This includes the following:</p>\n",
    "\n",
    "<ul>\n",
    "    <li>creating visualizations for the data sets</li>\n",
    "    <li>summarising key aspects (e.g., central tendencies, standard deviation)</li>\n",
    "    <li>drawing relationships between observations and response variables</li>\n",
    "    <li>establishing a basis for deeper analysis</li>\n",
    "</ul>\n",
    "\n",
    "<p align = \"justify\">Visualization, <b>central tendency</b> (e.g., arithmetic mean, median, mode), and <b>standard deviation</b> are crucial to EDA as they effectively and succinctly communicate data, in one image or value. Visualization enables us to observe trends and distributions in data sets. Central tendency provides insight to the value(s) which are representative of our data. Standard deviation signals to us how much stochastic observations deviate from an established central tendency (specifically the arithmetic mean).</p>\n",
    "\n",
    "<h3>Standard Deviation</h3>\n",
    "<p align = \"justify\">The standard deviation ($\\sigma$) of a data set measures the dispertion of values relative to its arithmetic mean. Equal to the square root of <b>variance</b>, the standard deviation of a set of values is given by:</p>\n",
    "\n",
    "$$\\sigma = \\sqrt{\\frac{\\sum_{i=1}^{i=n}(x_{i}-\\mu)^{2}}{n}}$$\n",
    "\n",
    "<p align = \"justify\">where $\\mu$ is the population mean of the data set, which contains $n$ observed values.</p>\n",
    "\n",
    "<h3>Correlation</h3>\n",
    "<p align = \"justify\">The correlation between two stochastic variables measures how they affect each other. Correlation may be non-existent ($0$), positive ($+ve$), such that the two variables trend with a positive gradient, or negative ($-ve$), such that the two variables trend with a negative gradient. The correlation is seldom perfect (magnitude 1), and in instances where it is perfect, suspicion should be raised as to the viability of the data used.</p>\n",
    "\n",
    "<p align = \"justify\">For continuous, regressional data, it is required that said data be <b>normalized</b> before any correlations can be drawn. Normalized data adheres to a frequency distribution of values close to its second quartile (central tendency), and exhibits little to no <b>skewness</b>.</p>\n",
    "\n",
    "<p align = \"justify\">For linear models, we use the <b>Pearson Correlation Coefficient</b>, given by the following expression:</p>\n",
    "\n",
    "$$r_{xy} = \\frac{n\\sum_{i=1}^{i=n}x_{i}y_{i} - \\sum_{i=1}^{i=n}x_{i}\\sum_{i=1}^{i=n}y_{i}}{\\sqrt{n\\sum_{i=1}^{i=n}x_{i}^{2} - (\\sum_{i=1}^{i=n}x_{i})^{2}}\\sqrt{n\\sum_{i=1}^{i=n}y_{i}^{2}-(\\sum_{i=1}^{i=n}y_{i})^{2}}}$$\n",
    "\n",
    "<p align = \"justify\">which measures the correlation (mutual effect) between a given input $x_{i}$ and its corresponding output $y_{i}$, for $n$ observations in the provided data set.</p>\n",
    "\n",
    "<h3>Skewness</h3>\n",
    "<p align = \"justify\">Skewness measures the <b>lack of symmetry</b> in a data set. For <b>univariate</b> data (focusing on one field at a time), we use the <b>Fisher-Pearson Coefficient</b>,given by:</p>\n",
    "\n",
    "$$g_{1} = \\frac{\\sum_{i=1}^{i=n}(x_{i}-\\mu)^{3}/n}{\\sigma^{3}}$$\n",
    "\n",
    "<p align = \"justify\">Statistical software utilizes an adjusted version of this coefficient to account for the sample size. The adjustment apporoaches a value of $1$ as the sample size $n$ becomes large.</p>\n",
    "\n",
    "<p align = \"justify\">If $g_{1} > 0 = +ve$, then the data is skewed to the right. The skew occurs to the left for instances where $g_{1} < 0 = -ve$.</p>\n",
    "\n",
    "<p align = \"justify\">Two types of <b>Pearson Skewness</b> exist and can be applied to measure skewness in a given data set. The first type, denoted $Sk_{1}$ considers the sample mode, where the second type $Sk_{2}$ considers the sample median of the data set:</p>\n",
    "\n",
    "$$Sk_{1} = \\frac{\\mu - median}{\\sigma}$$\n",
    "\n",
    "$$Sk_{2} = 3\\frac{(\\mu - mode)}{\\sigma}$$\n",
    "\n",
    "<p align = \"justify\"><b>Galton Skewness</b> considers the skewness in the context of quartiles, including the median of the data set:</p>\n",
    "\n",
    "$$GS := \\frac{Q_{1}+Q_{3}-2Q_{2}}{Q_{3}-Q_{1}}$$\n",
    "\n",
    "<p align = \"justify\">where $Q_{2}$ (the 50th percentile) is the sample median.</p>"
   ]
  },
  {
   "cell_type": "markdown",
   "id": "7e4be3e0",
   "metadata": {},
   "source": [
    "<h2>Analysis</h2>\n",
    "<p align = \"justify\">For this project we require the following Python libraries:</p>\n",
    "\n",
    "<ul>\n",
    "    <li>Numpy</li>\n",
    "    <li>Pandas</li>\n",
    "    <li>Plotly</li>\n",
    "    <li>Asyncio</li>\n",
    "</ul>"
   ]
  },
  {
   "cell_type": "code",
   "execution_count": 3,
   "id": "56ae51fc",
   "metadata": {},
   "outputs": [
    {
     "name": "stdout",
     "output_type": "stream",
     "text": [
      "Hello Jupyter\n"
     ]
    }
   ],
   "source": [
    "print(\"Hello Jupyter\")"
   ]
  },
  {
   "cell_type": "markdown",
   "id": "d951141c",
   "metadata": {},
   "source": [
    "<h2>Discussion</h2>\n",
    "<p>Discussion of post-analytical results.</p>"
   ]
  },
  {
   "cell_type": "markdown",
   "id": "4811b597",
   "metadata": {},
   "source": [
    "<h2>Hypothesis</h2>\n",
    "<p>Hypothesis resulting from analysis.</p>"
   ]
  },
  {
   "cell_type": "markdown",
   "id": "83acf03e",
   "metadata": {},
   "source": [
    "<h2>Summary</h2>\n",
    "<p>Summary.</p>"
   ]
  },
  {
   "cell_type": "markdown",
   "id": "ddd9e641",
   "metadata": {},
   "source": [
    "<h1>References</h1>\n",
    "\n",
    "<p align = \"justify\">[1] https://www.nato.int/cps/en/natohq/news_197050.htm</p>\n",
    "<p align = \"justify\">[2] https://www.macrotrends.net/countries/RUS/russia/military-spending-defense-budget</p>\n",
    "<p align = \"justify\">[3] https://uk.investing.com/commodities/dutch-ttf-gas-c1-futures-historical-data</p>\n",
    "<p align = \"justify\">[4] https://jamestown.org/program/russias-skyrocketing-defense-spending-2022-2023/</p>"
   ]
  }
 ],
 "metadata": {
  "kernelspec": {
   "display_name": "Python 3 (ipykernel)",
   "language": "python",
   "name": "python3"
  },
  "language_info": {
   "codemirror_mode": {
    "name": "ipython",
    "version": 3
   },
   "file_extension": ".py",
   "mimetype": "text/x-python",
   "name": "python",
   "nbconvert_exporter": "python",
   "pygments_lexer": "ipython3",
   "version": "3.9.12"
  },
  "vscode": {
   "interpreter": {
    "hash": "8cfcd75b6dff33e854c646ad668d6d511505a2bbcf698cf4a178e8a0d3ffff79"
   }
  }
 },
 "nbformat": 4,
 "nbformat_minor": 5
}
