{
 "cells": [
  {
   "cell_type": "markdown",
   "id": "46a3c272",
   "metadata": {},
   "source": [
    "<h1>IS71068A Data Programming (2022)</h1>\n",
    "<h2>Coursework 1</h2>"
   ]
  },
  {
   "cell_type": "markdown",
   "id": "a183bfdd",
   "metadata": {},
   "source": [
    "<p>Mr Elliot Walker</p>\n",
    "<p>ID: 3368 6408</p>"
   ]
  },
  {
   "cell_type": "markdown",
   "id": "6562dc55",
   "metadata": {},
   "source": [
    "<h2>Overview</h2>\n",
    "<p>What is my project about and how does it relate to a proposal for future work?</p>"
   ]
  },
  {
   "cell_type": "markdown",
   "id": "2481af9a",
   "metadata": {},
   "source": [
    "<h2>Problem Area</h2>\n",
    "<p>Which problem area have I chosen, and why?</p>"
   ]
  },
  {
   "cell_type": "markdown",
   "id": "1ddb4404",
   "metadata": {},
   "source": [
    "<h2>Data</h2>\n",
    "<p>Which datasets am I using in this research?</p>"
   ]
  },
  {
   "cell_type": "markdown",
   "id": "7e4be3e0",
   "metadata": {},
   "source": [
    "<h2>Analysis</h2>\n",
    "<p>Exploratory data analysis of datasets.</p>"
   ]
  },
  {
   "cell_type": "markdown",
   "id": "d951141c",
   "metadata": {},
   "source": [
    "<h2>Discussion</h2>\n",
    "<p>Discussion of post-analytical results.</p>"
   ]
  },
  {
   "cell_type": "markdown",
   "id": "4811b597",
   "metadata": {},
   "source": [
    "<h2>Hypothesis</h2>\n",
    "<p>Hypothesis resulting from analysis.</p>"
   ]
  },
  {
   "cell_type": "markdown",
   "id": "83acf03e",
   "metadata": {},
   "source": [
    "<h2>Summary</h2>\n",
    "<p>Summary.</p>"
   ]
  }
 ],
 "metadata": {
  "kernelspec": {
   "display_name": "Python 3 (ipykernel)",
   "language": "python",
   "name": "python3"
  },
  "language_info": {
   "codemirror_mode": {
    "name": "ipython",
    "version": 3
   },
   "file_extension": ".py",
   "mimetype": "text/x-python",
   "name": "python",
   "nbconvert_exporter": "python",
   "pygments_lexer": "ipython3",
   "version": "3.9.12"
  }
 },
 "nbformat": 4,
 "nbformat_minor": 5
}
